{
 "cells": [
  {
   "cell_type": "code",
   "execution_count": 3,
   "metadata": {},
   "outputs": [
    {
     "name": "stdout",
     "output_type": "stream",
     "text": [
      "bus  :  69.15728449821472\n",
      "car  :  76.34342908859253\n",
      "car  :  97.36387729644775\n",
      "car  :  96.39384150505066\n",
      "car  :  94.21378970146179\n",
      "car  :  96.93530797958374\n",
      "car  :  99.08012747764587\n",
      "car  :  94.63680386543274\n",
      "car  :  61.22928261756897\n",
      "car  :  65.38853049278259\n",
      "car  :  52.325624227523804\n",
      "car  :  61.7999792098999\n",
      "car  :  77.9944658279419\n",
      "car  :  64.02072310447693\n",
      "car  :  93.52442026138306\n",
      "car  :  79.57322597503662\n",
      "car  :  83.01379680633545\n",
      "car  :  81.82376027107239\n",
      "car  :  59.35779809951782\n",
      "car  :  88.51770162582397\n",
      "car  :  80.55031895637512\n",
      "car  :  94.3760871887207\n",
      "car  :  89.75579738616943\n"
     ]
    }
   ],
   "source": [
    "from imageai.Detection import ObjectDetection\n",
    "\n",
    "detector = ObjectDetection()\n",
    "\n",
    "model_path = \"./models/yolo-tiny.h5\"\n",
    "input_path = \"./input/car_2.jpg\"\n",
    "output_path = \"./output/car_2_output.jpg\"\n",
    "\n",
    "detector.setModelTypeAsTinyYOLOv3()\n",
    "detector.setModelPath(model_path)\n",
    "detector.loadModel()\n",
    "\n",
    "detection = detector.detectObjectsFromImage(input_image=input_path, output_image_path=output_path)\n",
    "\n",
    "for eachItem in detection:\n",
    "    print(eachItem['name'] , ' : ', eachItem['percentage_probability'])\n"
   ]
  },
  {
   "cell_type": "code",
   "execution_count": null,
   "metadata": {},
   "outputs": [],
   "source": []
  }
 ],
 "metadata": {
  "kernelspec": {
   "display_name": "Python 3",
   "language": "python",
   "name": "python3"
  },
  "language_info": {
   "codemirror_mode": {
    "name": "ipython",
    "version": 3
   },
   "file_extension": ".py",
   "mimetype": "text/x-python",
   "name": "python",
   "nbconvert_exporter": "python",
   "pygments_lexer": "ipython3",
   "version": "3.8.5"
  }
 },
 "nbformat": 4,
 "nbformat_minor": 4
}
